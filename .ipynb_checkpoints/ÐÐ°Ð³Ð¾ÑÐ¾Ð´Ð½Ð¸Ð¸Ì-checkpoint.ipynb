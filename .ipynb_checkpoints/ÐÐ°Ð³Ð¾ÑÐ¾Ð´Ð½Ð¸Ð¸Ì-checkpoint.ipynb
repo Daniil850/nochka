{
 "cells": [
  {
   "cell_type": "code",
   "execution_count": 17,
   "id": "ef5fa1e3",
   "metadata": {},
   "outputs": [
    {
     "name": "stdout",
     "output_type": "stream",
     "text": [
      "Решение системы:\n",
      " [-0.00537634 -3.51612903  3.50537634  0.66666667  0.30537634]\n"
     ]
    }
   ],
   "source": [
    "import numpy as np \n",
    "A=np.array([[100,6,5,18,20],[10,9,7,24,30],[12,12,13,27,35],[8,6,6,15,20],[4,5,4,15,15]]) #создание матрицы \n",
    "B=np.array([14,18,32,16,11]) #создаю матрицу столбца свободных членов \n",
    "det = np.linalg.det(A) \n",
    "if det==0: \n",
    " print (\"Определитель матрицы равен нулю, система имеет бесконечно много решений\") \n",
    "else: \n",
    " a_inv = np.linalg.inv(A) \n",
    "X=np.dot(a_inv, B) \n",
    "print (\"Решение системы:\\n\", X)"
   ]
  },
  {
   "cell_type": "code",
   "execution_count": 18,
   "id": "f1f60d73",
   "metadata": {},
   "outputs": [
    {
     "name": "stdout",
     "output_type": "stream",
     "text": [
      "Решение системы:\n",
      " [-0.00537634 -0.05376344j -3.51612903-15.16129032j\n",
      "  3.50537634 +5.05376344j  0.66666667 +3.33333333j\n",
      "  0.30537634 +1.05376344j]\n"
     ]
    }
   ],
   "source": [
    "import numpy as np \n",
    "A=np.array([[100,6,5,18,20],[10,9,7,24,30],[12,12,13,27,35],[8,6,6,15,20],[4,5,4,15,15]]) #создание матрицы \n",
    "B=np.array([14 +10j,18 +10j,32+10j,16 +10j,11 +10j]) #создаю матрицу столбца свободных членов \n",
    "det = np.linalg.det(A) \n",
    "if det==0: \n",
    " print (\"Определитель матрицы равен нулю, система имеет бесконечно много решений\") \n",
    "else: \n",
    " a_inv = np.linalg.inv(A) \n",
    "X=np.dot(a_inv, B) \n",
    "print (\"Решение системы:\\n\", X)"
   ]
  },
  {
   "cell_type": "code",
   "execution_count": null,
   "id": "764496b3",
   "metadata": {},
   "outputs": [],
   "source": []
  },
  {
   "cell_type": "code",
   "execution_count": 24,
   "id": "0109761c",
   "metadata": {},
   "outputs": [
    {
     "name": "stdout",
     "output_type": "stream",
     "text": [
      "x1 = -0.005376344086021502\n",
      "x2 = -3.516129032258073\n",
      "x3 = 3.5053763440860237\n",
      "x4 = 0.6666666666666671\n",
      "x5 = 0.3053763440860225\n"
     ]
    }
   ],
   "source": [
    "import numpy as np\n",
    "a=np.array([[100,6,5,18,20],[10,9,7,24,30],[12,12,13,27,35],[8,6,6,15,20],[4,5,4,15,15]]) \n",
    "b=np.array([14,18,32,16,11])\n",
    "det=np.linalg.det(a)\n",
    "if det==0:\n",
    "        print(\"Определитель матрицы равен нулю, система имеет бесконечно много решений\")\n",
    "else:\n",
    "        s_0=a[:,0]\n",
    "        s_1=a[:,1]\n",
    "        s_2=a[:,2]\n",
    "        s_3=a[:,3]\n",
    "        s_4=a[:,4]\n",
    "        a_1=np.column_stack((b,s_1,s_2,s_3,s_4))\n",
    "        det_1 = np.linalg.det(a_1)\n",
    "        \n",
    "        a_2=np.column_stack((s_0,b,s_2,s_3,s_4))\n",
    "        det_2 = np.linalg.det(a_2)\n",
    "        \n",
    "        a_3=np.column_stack((s_0,s_1,b,s_3,s_4))\n",
    "        det_3 = np.linalg.det(a_3)\n",
    "        \n",
    "        a_4=np.column_stack((s_0,s_1,s_2,b,s_4))\n",
    "        det_4 = np.linalg.det(a_4)\n",
    "        \n",
    "        a_5=np.column_stack((s_0,s_1,s_2,s_3,b))\n",
    "        det_5 = np.linalg.det(a_5)\n",
    "        x_1=det_1/det\n",
    "        x_2=det_2/det\n",
    "        x_3=det_3/det\n",
    "        x_4=det_4/det\n",
    "        x_5=det_5/det\n",
    "        print(\"x1 =\", x_1)\n",
    "        print(\"x2 =\", x_2)\n",
    "        print(\"x3 =\", x_3)\n",
    "        print(\"x4 =\", x_4)\n",
    "        print(\"x5 =\", x_5)"
   ]
  },
  {
   "cell_type": "code",
   "execution_count": 25,
   "id": "13bdc067",
   "metadata": {},
   "outputs": [
    {
     "name": "stdout",
     "output_type": "stream",
     "text": [
      "x1 = (-0.0053763440860215735-0.053763440860215034j)\n",
      "x2 = (-3.5161290322580587-15.161290322580616j)\n",
      "x3 = (3.5053763440860197+5.053763440860204j)\n",
      "x4 = (0.6666666666666656+3.333333333333332j)\n",
      "x5 = (0.3053763440860223+1.0537634408602163j)\n"
     ]
    }
   ],
   "source": [
    "import numpy as np\n",
    "a=np.array([[100,6,5,18,20],[10,9,7,24,30],[12,12,13,27,35],[8,6,6,15,20],[4,5,4,15,15]]) \n",
    "b=np.array([14 +10j,18 +10j,32+10j,16 +10j,11 +10j])\n",
    "det=np.linalg.det(a)\n",
    "if det==0:\n",
    "        print(\"Определитель матрицы равен нулю, система имеет бесконечно много решений\")\n",
    "else:\n",
    "        s_0=a[:,0]\n",
    "        s_1=a[:,1]\n",
    "        s_2=a[:,2]\n",
    "        s_3=a[:,3]\n",
    "        s_4=a[:,4]\n",
    "        a_1=np.column_stack((b,s_1,s_2,s_3,s_4))\n",
    "        det_1 = np.linalg.det(a_1)\n",
    "        \n",
    "        a_2=np.column_stack((s_0,b,s_2,s_3,s_4))\n",
    "        det_2 = np.linalg.det(a_2)\n",
    "        \n",
    "        a_3=np.column_stack((s_0,s_1,b,s_3,s_4))\n",
    "        det_3 = np.linalg.det(a_3)\n",
    "        \n",
    "        a_4=np.column_stack((s_0,s_1,s_2,b,s_4))\n",
    "        det_4 = np.linalg.det(a_4)\n",
    "        \n",
    "        a_5=np.column_stack((s_0,s_1,s_2,s_3,b))\n",
    "        det_5 = np.linalg.det(a_5)\n",
    "        x_1=det_1/det\n",
    "        x_2=det_2/det\n",
    "        x_3=det_3/det\n",
    "        x_4=det_4/det\n",
    "        x_5=det_5/det\n",
    "        print(\"x1 =\", x_1)\n",
    "        print(\"x2 =\", x_2)\n",
    "        print(\"x3 =\", x_3)\n",
    "        print(\"x4 =\", x_4)\n",
    "        print(\"x5 =\", x_5)"
   ]
  },
  {
   "cell_type": "code",
   "execution_count": 26,
   "id": "a6872a5c",
   "metadata": {},
   "outputs": [
    {
     "name": "stdout",
     "output_type": "stream",
     "text": [
      "[-0.00537634 -3.51612903  3.50537634  0.66666667  0.30537634]\n"
     ]
    }
   ],
   "source": [
    "A=np.array([[100,6,5,18,20],[10,9,7,24,30],[12,12,13,27,35],[8,6,6,15,20],[4,5,4,15,15]]) #создание матрицы\n",
    "B=np.array([14,18,32,16,11]) #создаю матрицу столбца свободных членов\n",
    "def Gauss(A, B):\n",
    "    X2 = np.linalg.solve(A,B)\n",
    "    print(X2)\n",
    "Gauss (A, B)"
   ]
  },
  {
   "cell_type": "code",
   "execution_count": 27,
   "id": "7c2a3b7c",
   "metadata": {},
   "outputs": [
    {
     "name": "stdout",
     "output_type": "stream",
     "text": [
      "[-0.00537634 -0.05376344j -3.51612903-15.16129032j\n",
      "  3.50537634 +5.05376344j  0.66666667 +3.33333333j\n",
      "  0.30537634 +1.05376344j]\n"
     ]
    }
   ],
   "source": [
    "A=np.array([[100,6,5,18,20],[10,9,7,24,30],[12,12,13,27,35],[8,6,6,15,20],[4,5,4,15,15]]) #создание матрицы\n",
    "B=np.array([14 +10j,18 +10j,32+10j,16 +10j,11 +10j]) #создаю матрицу столбца свободных членов\n",
    "def Gauss(A, B):\n",
    "    X2 = np.linalg.solve(A,B)\n",
    "    print(X2)\n",
    "Gauss (A, B)"
   ]
  }
 ],
 "metadata": {
  "kernelspec": {
   "display_name": "Python 3 (ipykernel)",
   "language": "python",
   "name": "python3"
  },
  "language_info": {
   "codemirror_mode": {
    "name": "ipython",
    "version": 3
   },
   "file_extension": ".py",
   "mimetype": "text/x-python",
   "name": "python",
   "nbconvert_exporter": "python",
   "pygments_lexer": "ipython3",
   "version": "3.9.7"
  }
 },
 "nbformat": 4,
 "nbformat_minor": 5
}
